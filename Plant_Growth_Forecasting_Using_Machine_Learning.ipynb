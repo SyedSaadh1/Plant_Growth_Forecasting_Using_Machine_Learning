{
  "nbformat": 4,
  "nbformat_minor": 0,
  "metadata": {
    "colab": {
      "provenance": []
    },
    "kernelspec": {
      "name": "python3",
      "display_name": "Python 3"
    },
    "language_info": {
      "name": "python"
    }
  },
  "cells": [
    {
      "cell_type": "markdown",
      "source": [
        "# Installing Libraries and Packages\n"
      ],
      "metadata": {
        "id": "iVthDZNzd9Af"
      }
    },
    {
      "cell_type": "code",
      "source": [
        "import sys"
      ],
      "metadata": {
        "id": "-inzV_zWl7KI"
      },
      "execution_count": 11,
      "outputs": []
    },
    {
      "cell_type": "code",
      "source": [
        "import os"
      ],
      "metadata": {
        "id": "J5sHGRfCl63z"
      },
      "execution_count": 12,
      "outputs": []
    },
    {
      "cell_type": "code",
      "source": [
        "from PyQt5 import QtWidgets, QtGui, QtCore"
      ],
      "metadata": {
        "id": "5HCWGEtLmBS7"
      },
      "execution_count": 13,
      "outputs": []
    },
    {
      "cell_type": "code",
      "execution_count": 14,
      "metadata": {
        "colab": {
          "base_uri": "https://localhost:8080/"
        },
        "id": "FXFojOC_VhWL",
        "outputId": "bdbbe47f-98e7-464c-b860-3c8da85c7c5b"
      },
      "outputs": [
        {
          "output_type": "stream",
          "name": "stdout",
          "text": [
            "Requirement already satisfied: PyQt5 in /usr/local/lib/python3.10/dist-packages (5.15.9)\n",
            "Requirement already satisfied: PyQt5-sip<13,>=12.11 in /usr/local/lib/python3.10/dist-packages (from PyQt5) (12.12.2)\n",
            "Requirement already satisfied: PyQt5-Qt5>=5.15.2 in /usr/local/lib/python3.10/dist-packages (from PyQt5) (5.15.2)\n"
          ]
        }
      ],
      "source": [
        "!pip install PyQt5"
      ]
    },
    {
      "cell_type": "code",
      "source": [
        "!apt install sqlite3"
      ],
      "metadata": {
        "colab": {
          "base_uri": "https://localhost:8080/"
        },
        "id": "8L2CoiuCV1B4",
        "outputId": "73494414-112b-401d-a0b8-4489436a67c2"
      },
      "execution_count": 15,
      "outputs": [
        {
          "output_type": "stream",
          "name": "stdout",
          "text": [
            "Reading package lists... Done\n",
            "Building dependency tree... Done\n",
            "Reading state information... Done\n",
            "sqlite3 is already the newest version (3.37.2-2ubuntu0.1).\n",
            "0 upgraded, 0 newly installed, 0 to remove and 18 not upgraded.\n"
          ]
        }
      ]
    },
    {
      "cell_type": "markdown",
      "source": [
        "### scane.ui"
      ],
      "metadata": {
        "id": "cDitzNW5gRcF"
      }
    },
    {
      "cell_type": "code",
      "source": [
        "# -*- coding: utf-8 -*-\n",
        "\n",
        "# Form implementation generated from reading ui file 'scane.ui'\n",
        "#\n",
        "# Created by: PyQt5 UI code generator 5.12.1\n",
        "#\n",
        "# WARNING! All changes made in this file will be lost!\n",
        "\n",
        "from PyQt5 import QtCore, QtGui, QtWidgets\n",
        "\n",
        "\n",
        "class Ui_MainWindow(object):\n",
        "    def setupUi(self, MainWindow):\n",
        "        MainWindow.setObjectName(\"MainWindow\")\n",
        "        MainWindow.resize(582, 229)\n",
        "        MainWindow.setStyleSheet(\"color: rgb(0, 85, 255);\\n\"\n",
        "\"font: 75 12pt \\\"MS Shell Dlg 2\\\";\")\n",
        "        self.centralwidget = QtWidgets.QWidget(MainWindow)\n",
        "        self.centralwidget.setObjectName(\"centralwidget\")\n",
        "        self.pushButton = QtWidgets.QPushButton(self.centralwidget)\n",
        "        self.pushButton.setGeometry(QtCore.QRect(130, 50, 271, 31))\n",
        "        self.pushButton.setObjectName(\"pushButton\")\n",
        "        self.pushButton_2 = QtWidgets.QPushButton(self.centralwidget)\n",
        "        self.pushButton_2.setGeometry(QtCore.QRect(130, 90, 271, 31))\n",
        "        self.pushButton_2.setObjectName(\"pushButton_2\")\n",
        "        self.pushButton_3 = QtWidgets.QPushButton(self.centralwidget)\n",
        "        self.pushButton_3.setGeometry(QtCore.QRect(130, 130, 271, 31))\n",
        "        self.pushButton_3.setObjectName(\"pushButton_3\")\n",
        "        self.pushButton_4 = QtWidgets.QPushButton(self.centralwidget)\n",
        "        self.pushButton_4.setGeometry(QtCore.QRect(130, 170, 271, 31))\n",
        "        self.pushButton_4.setObjectName(\"pushButton_4\")\n",
        "        self.pushButton_5 = QtWidgets.QPushButton(self.centralwidget)\n",
        "        self.pushButton_5.setGeometry(QtCore.QRect(130, 10, 271, 31))\n",
        "        self.pushButton_5.setObjectName(\"pushButton_5\")\n",
        "        MainWindow.setCentralWidget(self.centralwidget)\n",
        "        self.statusbar = QtWidgets.QStatusBar(MainWindow)\n",
        "        self.statusbar.setObjectName(\"statusbar\")\n",
        "        MainWindow.setStatusBar(self.statusbar)\n",
        "\n",
        "        self.retranslateUi(MainWindow)\n",
        "        QtCore.QMetaObject.connectSlotsByName(MainWindow)\n",
        "\n",
        "    def retranslateUi(self, MainWindow):\n",
        "        _translate = QtCore.QCoreApplication.translate\n",
        "        MainWindow.setWindowTitle(_translate(\"MainWindow\", \"Plant Growth Prediction\"))\n",
        "        self.pushButton.setText(_translate(\"MainWindow\", \"Regulators\"))\n",
        "        self.pushButton_2.setText(_translate(\"MainWindow\", \".csv creation\"))\n",
        "        self.pushButton_3.setText(_translate(\"MainWindow\", \"MLPC Classifier\"))\n",
        "        self.pushButton_4.setText(_translate(\"MainWindow\", \"Knn Classifier\"))\n",
        "        self.pushButton_5.setText(_translate(\"MainWindow\", \"Nutrients\"))\n",
        "\n",
        "\n"
      ],
      "metadata": {
        "id": "jDJElFerYyq_"
      },
      "execution_count": 16,
      "outputs": []
    },
    {
      "cell_type": "markdown",
      "source": [
        "### nutrients.ui\n"
      ],
      "metadata": {
        "id": "peNHABE1gVGS"
      }
    },
    {
      "cell_type": "code",
      "source": [
        "# -*- coding: utf-8 -*-\n",
        "\n",
        "# Form implementation generated from reading ui file 'nutrients.ui'\n",
        "#\n",
        "# Created by: PyQt5 UI code generator 5.12.1\n",
        "#\n",
        "# WARNING! All changes made in this file will be lost!\n",
        "\n",
        "from PyQt5 import QtCore, QtGui, QtWidgets\n",
        "\n",
        "\n",
        "class Ui_MainWindow(object):\n",
        "    def setupUi(self, MainWindow):\n",
        "        MainWindow.setObjectName(\"MainWindow\")\n",
        "        MainWindow.resize(481, 270)\n",
        "        MainWindow.setStyleSheet(\"color: rgb(0, 85, 255);\\n\"\n",
        "\"font: 75 12pt \\\"MS Shell Dlg 2\\\";\")\n",
        "        self.centralwidget = QtWidgets.QWidget(MainWindow)\n",
        "        self.centralwidget.setObjectName(\"centralwidget\")\n",
        "        self.pushButton = QtWidgets.QPushButton(self.centralwidget)\n",
        "        self.pushButton.setGeometry(QtCore.QRect(170, 150, 251, 31))\n",
        "        self.pushButton.setObjectName(\"pushButton\")\n",
        "        self.lineEdit_3 = QtWidgets.QLineEdit(self.centralwidget)\n",
        "        self.lineEdit_3.setGeometry(QtCore.QRect(110, 50, 31, 33))\n",
        "        self.lineEdit_3.setObjectName(\"lineEdit_3\")\n",
        "        self.lineEdit_4 = QtWidgets.QLineEdit(self.centralwidget)\n",
        "        self.lineEdit_4.setGeometry(QtCore.QRect(110, 90, 31, 33))\n",
        "        self.lineEdit_4.setObjectName(\"lineEdit_4\")\n",
        "        self.lineEdit_5 = QtWidgets.QLineEdit(self.centralwidget)\n",
        "        self.lineEdit_5.setGeometry(QtCore.QRect(110, 130, 31, 33))\n",
        "        self.lineEdit_5.setObjectName(\"lineEdit_5\")\n",
        "        self.lineEdit_6 = QtWidgets.QLineEdit(self.centralwidget)\n",
        "        self.lineEdit_6.setGeometry(QtCore.QRect(110, 170, 31, 33))\n",
        "        self.lineEdit_6.setObjectName(\"lineEdit_6\")\n",
        "        self.label_3 = QtWidgets.QLabel(self.centralwidget)\n",
        "        self.label_3.setGeometry(QtCore.QRect(10, 50, 71, 21))\n",
        "        self.label_3.setObjectName(\"label_3\")\n",
        "        self.label_4 = QtWidgets.QLabel(self.centralwidget)\n",
        "        self.label_4.setGeometry(QtCore.QRect(10, 90, 101, 21))\n",
        "        self.label_4.setObjectName(\"label_4\")\n",
        "        self.label_5 = QtWidgets.QLabel(self.centralwidget)\n",
        "        self.label_5.setGeometry(QtCore.QRect(10, 170, 61, 21))\n",
        "        self.label_5.setObjectName(\"label_5\")\n",
        "        self.label_6 = QtWidgets.QLabel(self.centralwidget)\n",
        "        self.label_6.setGeometry(QtCore.QRect(10, 130, 91, 21))\n",
        "        self.label_6.setObjectName(\"label_6\")\n",
        "        self.label_2 = QtWidgets.QLabel(self.centralwidget)\n",
        "        self.label_2.setGeometry(QtCore.QRect(10, 210, 51, 21))\n",
        "        self.label_2.setObjectName(\"label_2\")\n",
        "        self.lineEdit_2 = QtWidgets.QLineEdit(self.centralwidget)\n",
        "        self.lineEdit_2.setGeometry(QtCore.QRect(110, 210, 31, 33))\n",
        "        self.lineEdit_2.setObjectName(\"lineEdit_2\")\n",
        "        self.lineEdit_9 = QtWidgets.QLineEdit(self.centralwidget)\n",
        "        self.lineEdit_9.setGeometry(QtCore.QRect(110, 0, 161, 33))\n",
        "        self.lineEdit_9.setObjectName(\"lineEdit_9\")\n",
        "        self.label_7 = QtWidgets.QLabel(self.centralwidget)\n",
        "        self.label_7.setGeometry(QtCore.QRect(10, 0, 71, 21))\n",
        "        self.label_7.setObjectName(\"label_7\")\n",
        "        self.label_8 = QtWidgets.QLabel(self.centralwidget)\n",
        "        self.label_8.setGeometry(QtCore.QRect(10, 30, 461, 21))\n",
        "        self.label_8.setStyleSheet(\"font: 75 10pt \\\"MS Shell Dlg 2\\\";\")\n",
        "        self.label_8.setObjectName(\"label_8\")\n",
        "        MainWindow.setCentralWidget(self.centralwidget)\n",
        "        self.statusbar = QtWidgets.QStatusBar(MainWindow)\n",
        "        self.statusbar.setObjectName(\"statusbar\")\n",
        "        MainWindow.setStatusBar(self.statusbar)\n",
        "\n",
        "        self.retranslateUi(MainWindow)\n",
        "        QtCore.QMetaObject.connectSlotsByName(MainWindow)\n",
        "\n",
        "    def retranslateUi(self, MainWindow):\n",
        "        _translate = QtCore.QCoreApplication.translate\n",
        "        MainWindow.setWindowTitle(_translate(\"MainWindow\", \"Nutrients Required\"))\n",
        "        self.pushButton.setText(_translate(\"MainWindow\", \"Store Nutrients in Data base\"))\n",
        "        self.lineEdit_3.setText(_translate(\"MainWindow\", \"1\"))\n",
        "        self.lineEdit_4.setText(_translate(\"MainWindow\", \"1\"))\n",
        "        self.lineEdit_5.setText(_translate(\"MainWindow\", \"1\"))\n",
        "        self.lineEdit_6.setText(_translate(\"MainWindow\", \"1\"))\n",
        "        self.label_3.setText(_translate(\"MainWindow\", \"Nitrogen\"))\n",
        "        self.label_4.setText(_translate(\"MainWindow\", \"Phosphorus\"))\n",
        "        self.label_5.setText(_translate(\"MainWindow\", \"Sulfur\"))\n",
        "        self.label_6.setText(_translate(\"MainWindow\", \"Magnesium\"))\n",
        "        self.label_2.setText(_translate(\"MainWindow\", \"Silicon\"))\n",
        "        self.lineEdit_2.setText(_translate(\"MainWindow\", \"1\"))\n",
        "        self.lineEdit_9.setText(_translate(\"MainWindow\", \"10001\"))\n",
        "        self.label_7.setText(_translate(\"MainWindow\", \"Filed ID:\"))\n",
        "        self.label_8.setText(_translate(\"MainWindow\", \"Enter 0 for Low, 1 for Applied as Needed, 2 for More than Needed for following:\"))\n",
        "\n",
        "\n"
      ],
      "metadata": {
        "id": "G81id34jX0MY"
      },
      "execution_count": 17,
      "outputs": []
    },
    {
      "cell_type": "markdown",
      "source": [
        "### regulators.ui"
      ],
      "metadata": {
        "id": "0eulzCS0gc8s"
      }
    },
    {
      "cell_type": "code",
      "source": [
        "# -*- coding: utf-8 -*-\n",
        "\n",
        "# Form implementation generated from reading ui file 'regulators.ui'\n",
        "#\n",
        "# Created by: PyQt5 UI code generator 5.12.1\n",
        "#\n",
        "# WARNING! All changes made in this file will be lost!\n",
        "\n",
        "from PyQt5 import QtCore, QtGui, QtWidgets\n",
        "\n",
        "\n",
        "class Ui_MainWindow(object):\n",
        "    def setupUi(self, MainWindow):\n",
        "        MainWindow.setObjectName(\"MainWindow\")\n",
        "        MainWindow.resize(481, 270)\n",
        "        MainWindow.setStyleSheet(\"color: rgb(0, 85, 255);\\n\"\n",
        "\"font: 75 12pt \\\"MS Shell Dlg 2\\\";\")\n",
        "        self.centralwidget = QtWidgets.QWidget(MainWindow)\n",
        "        self.centralwidget.setObjectName(\"centralwidget\")\n",
        "        self.pushButton = QtWidgets.QPushButton(self.centralwidget)\n",
        "        self.pushButton.setGeometry(QtCore.QRect(170, 150, 251, 31))\n",
        "        self.pushButton.setObjectName(\"pushButton\")\n",
        "        self.lineEdit_3 = QtWidgets.QLineEdit(self.centralwidget)\n",
        "        self.lineEdit_3.setGeometry(QtCore.QRect(110, 50, 31, 33))\n",
        "        self.lineEdit_3.setObjectName(\"lineEdit_3\")\n",
        "        self.lineEdit_4 = QtWidgets.QLineEdit(self.centralwidget)\n",
        "        self.lineEdit_4.setGeometry(QtCore.QRect(110, 90, 31, 33))\n",
        "        self.lineEdit_4.setObjectName(\"lineEdit_4\")\n",
        "        self.lineEdit_5 = QtWidgets.QLineEdit(self.centralwidget)\n",
        "        self.lineEdit_5.setGeometry(QtCore.QRect(110, 130, 31, 33))\n",
        "        self.lineEdit_5.setObjectName(\"lineEdit_5\")\n",
        "        self.lineEdit_6 = QtWidgets.QLineEdit(self.centralwidget)\n",
        "        self.lineEdit_6.setGeometry(QtCore.QRect(110, 170, 31, 33))\n",
        "        self.lineEdit_6.setObjectName(\"lineEdit_6\")\n",
        "        self.label_3 = QtWidgets.QLabel(self.centralwidget)\n",
        "        self.label_3.setGeometry(QtCore.QRect(10, 50, 71, 21))\n",
        "        self.label_3.setObjectName(\"label_3\")\n",
        "        self.label_4 = QtWidgets.QLabel(self.centralwidget)\n",
        "        self.label_4.setGeometry(QtCore.QRect(10, 90, 101, 21))\n",
        "        self.label_4.setObjectName(\"label_4\")\n",
        "        self.label_5 = QtWidgets.QLabel(self.centralwidget)\n",
        "        self.label_5.setGeometry(QtCore.QRect(10, 170, 61, 21))\n",
        "        self.label_5.setObjectName(\"label_5\")\n",
        "        self.label_6 = QtWidgets.QLabel(self.centralwidget)\n",
        "        self.label_6.setGeometry(QtCore.QRect(10, 130, 91, 21))\n",
        "        self.label_6.setObjectName(\"label_6\")\n",
        "        self.label_2 = QtWidgets.QLabel(self.centralwidget)\n",
        "        self.label_2.setGeometry(QtCore.QRect(10, 210, 91, 21))\n",
        "        self.label_2.setObjectName(\"label_2\")\n",
        "        self.lineEdit_2 = QtWidgets.QLineEdit(self.centralwidget)\n",
        "        self.lineEdit_2.setGeometry(QtCore.QRect(110, 210, 31, 33))\n",
        "        self.lineEdit_2.setObjectName(\"lineEdit_2\")\n",
        "        self.lineEdit_9 = QtWidgets.QLineEdit(self.centralwidget)\n",
        "        self.lineEdit_9.setGeometry(QtCore.QRect(110, 0, 161, 33))\n",
        "        self.lineEdit_9.setObjectName(\"lineEdit_9\")\n",
        "        self.label_7 = QtWidgets.QLabel(self.centralwidget)\n",
        "        self.label_7.setGeometry(QtCore.QRect(10, 0, 71, 21))\n",
        "        self.label_7.setObjectName(\"label_7\")\n",
        "        self.label_8 = QtWidgets.QLabel(self.centralwidget)\n",
        "        self.label_8.setGeometry(QtCore.QRect(10, 30, 461, 21))\n",
        "        self.label_8.setStyleSheet(\"font: 75 10pt \\\"MS Shell Dlg 2\\\";\")\n",
        "        self.label_8.setObjectName(\"label_8\")\n",
        "        MainWindow.setCentralWidget(self.centralwidget)\n",
        "        self.statusbar = QtWidgets.QStatusBar(MainWindow)\n",
        "        self.statusbar.setObjectName(\"statusbar\")\n",
        "        MainWindow.setStatusBar(self.statusbar)\n",
        "\n",
        "        self.retranslateUi(MainWindow)\n",
        "        QtCore.QMetaObject.connectSlotsByName(MainWindow)\n",
        "\n",
        "    def retranslateUi(self, MainWindow):\n",
        "        _translate = QtCore.QCoreApplication.translate\n",
        "        MainWindow.setWindowTitle(_translate(\"MainWindow\", \"Plant-growth-regulating compounds\"))\n",
        "        self.pushButton.setText(_translate(\"MainWindow\", \"Store Regulators in Data base\"))\n",
        "        self.lineEdit_3.setText(_translate(\"MainWindow\", \"1\"))\n",
        "        self.lineEdit_4.setText(_translate(\"MainWindow\", \"1\"))\n",
        "        self.lineEdit_5.setText(_translate(\"MainWindow\", \"1\"))\n",
        "        self.lineEdit_6.setText(_translate(\"MainWindow\", \"1\"))\n",
        "        self.label_3.setText(_translate(\"MainWindow\", \"Auxin\"))\n",
        "        self.label_4.setText(_translate(\"MainWindow\", \"Gibberellin\"))\n",
        "        self.label_5.setText(_translate(\"MainWindow\", \"Ethylene\"))\n",
        "        self.label_6.setText(_translate(\"MainWindow\", \"Cytokinin\"))\n",
        "        self.label_2.setText(_translate(\"MainWindow\", \"AbscisicAcid\"))\n",
        "        self.lineEdit_2.setText(_translate(\"MainWindow\", \"1\"))\n",
        "        self.lineEdit_9.setText(_translate(\"MainWindow\", \"10001\"))\n",
        "        self.label_7.setText(_translate(\"MainWindow\", \"Filed ID:\"))\n",
        "        self.label_8.setText(_translate(\"MainWindow\", \"Enter 0 for Not Applied, 1 for Low, 2 for Applied as Needed for following:\"))\n",
        "\n",
        "\n"
      ],
      "metadata": {
        "id": "zmHYDFmbX12O"
      },
      "execution_count": 18,
      "outputs": []
    },
    {
      "cell_type": "markdown",
      "source": [
        "### K-Nearest Neighbors Classifier (KNN)"
      ],
      "metadata": {
        "id": "Ngt8Jn-FgnIW"
      }
    },
    {
      "cell_type": "code",
      "source": [
        "from sklearn.neighbors import KNeighborsClassifier\n",
        "import numpy as np\n",
        "import pandas as pd\n",
        "from sklearn import *\n",
        "import numpy as np\n",
        "import pandas as pd\n",
        "from sklearn import *\n",
        "from sklearn.metrics import accuracy_score\n",
        "df = pd.read_csv('sugarcaneset.csv')\n",
        "df[\"auxin\"] = df[\"auxin\"].map({'AuxinNA':1,'AuxinLow':2,'AuxinAN':3})\n",
        "df[\"gibberellin\"] = df[\"gibberellin\"].map({'gibberellinNA':1,'gibberellinLow':2,'gibberellinAN':3})\n",
        "df[\"cytokinin\"] = df[\"cytokinin\"].map({'cytokininNA':1,'cytokininLow':2,'cytokininAN':3})\n",
        "df[\"ethylene\"] = df[\"ethylene\"].map({'ethyleneNA':1,'ethyleneLow':2,'ethyleneAN':3})\n",
        "df[\"abscisicAcid\"] = df[\"abscisicAcid\"].map({'abscisicAcidNA':1,'abscisicAcidLow':2,'abscisicAcidAN':3})\n",
        "df[\"nitrogen\"] = df[\"nitrogen\"].map({'NitrogenLow':1,'NitrogenAN':2,'NitrogenMN':3})\n",
        "df[\"phosphorus\"] = df[\"phosphorus\"].map({'phosphorusLow':1,'phosphorusAN':2,'phosphorusMN':3})\n",
        "df[\"magnesium\"] = df[\"magnesium\"].map({'magnesiumLow':1,'magnesiumAN':2,'magnesiumMN':3})\n",
        "df[\"sulfur\"] = df[\"sulfur\"].map({'sulfurLow':1,'sulfurAN':2,'sulfurMN':3})\n",
        "df[\"silicon\"] = df[\"silicon\"].map({'siliconLow':1,'siliconAN':2,'siliconMN':3})\n",
        "df[\"plantGrowth\"] = df[\"plantGrowth\"].map({'HighGrowth':2,'MediumGrowth':1,'LowGrowth':0})\n",
        "data = df[[\"auxin\",\"gibberellin\",\"cytokinin\",\"ethylene\",\"abscisicAcid\",\"nitrogen\",\"phosphorus\",\"magnesium\",\"sulfur\",\"silicon\",\"plantGrowth\"]].to_numpy()\n",
        "inputs = data[:,:-1]\n",
        "outputs = data[:, -1]\n",
        "training_inputs = inputs[:1000]\n",
        "training_outputs = outputs[:1000]\n",
        "testing_inputs = inputs[1000:]\n",
        "testing_outputs = outputs[1000:]\n",
        "classifier = KNeighborsClassifier()\n",
        "classifier.fit(training_inputs, training_outputs)\n",
        "predictions = classifier.predict(testing_inputs)\n",
        "accuracy = 100.0 * accuracy_score(testing_outputs, predictions)\n",
        "print (\"The accuracy of KNN Classifier on testing data is: \" + str(accuracy))\n",
        "testSet = [[1,1,2,3,1,1,2,1,1,3]]\n",
        "test = pd.DataFrame(testSet)\n",
        "predictions = classifier.predict(test)\n",
        "print('KNN prediction on the first test set is:',predictions)\n",
        "testSet = [[2,1,2,2,2,2,1,2,3,1]]\n",
        "test = pd.DataFrame(testSet)\n",
        "predictions = classifier.predict(test)\n",
        "print('KNN prediction on the second test set is:',predictions)\n",
        "testSet = [[3,2,1,3,3,2,1,3,2,3]]\n",
        "test = pd.DataFrame(testSet)\n",
        "predictions = classifier.predict(test)\n",
        "print('KNN prediction on the third test set is:',predictions)\n"
      ],
      "metadata": {
        "colab": {
          "base_uri": "https://localhost:8080/"
        },
        "id": "9gGJ3WWyYNRZ",
        "outputId": "3e7906f2-2d76-4856-a635-88e9584506ec"
      },
      "execution_count": 19,
      "outputs": [
        {
          "output_type": "stream",
          "name": "stdout",
          "text": [
            "The accuracy of KNN Classifier on testing data is: 70.74089577228966\n",
            "KNN prediction on the first test set is: [0]\n",
            "KNN prediction on the second test set is: [0]\n",
            "KNN prediction on the third test set is: [2]\n"
          ]
        }
      ]
    },
    {
      "cell_type": "markdown",
      "source": [
        "Multi-Layer Perceptron Classifier (MLPC)"
      ],
      "metadata": {
        "id": "5fwNzt7Yg3Ci"
      }
    },
    {
      "cell_type": "code",
      "source": [
        "from sklearn.neural_network import MLPClassifier\n",
        "import numpy as np\n",
        "import pandas as pd\n",
        "from sklearn import *\n",
        "import numpy as np\n",
        "import pandas as pd\n",
        "from sklearn import *\n",
        "from sklearn.metrics import accuracy_score\n",
        "df = pd.read_csv('sugarcaneset.csv')\n",
        "df[\"auxin\"] = df[\"auxin\"].map({'AuxinNA':1,'AuxinLow':2,'AuxinAN':3})\n",
        "df[\"gibberellin\"] = df[\"gibberellin\"].map({'gibberellinNA':1,'gibberellinLow':2,'gibberellinAN':3})\n",
        "df[\"cytokinin\"] = df[\"cytokinin\"].map({'cytokininNA':1,'cytokininLow':2,'cytokininAN':3})\n",
        "df[\"ethylene\"] = df[\"ethylene\"].map({'ethyleneNA':1,'ethyleneLow':2,'ethyleneAN':3})\n",
        "df[\"abscisicAcid\"] = df[\"abscisicAcid\"].map({'abscisicAcidNA':1,'abscisicAcidLow':2,'abscisicAcidAN':3})\n",
        "df[\"nitrogen\"] = df[\"nitrogen\"].map({'NitrogenLow':1,'NitrogenAN':2,'NitrogenMN':3})\n",
        "df[\"phosphorus\"] = df[\"phosphorus\"].map({'phosphorusLow':1,'phosphorusAN':2,'phosphorusMN':3})\n",
        "df[\"magnesium\"] = df[\"magnesium\"].map({'magnesiumLow':1,'magnesiumAN':2,'magnesiumMN':3})\n",
        "df[\"sulfur\"] = df[\"sulfur\"].map({'sulfurLow':1,'sulfurAN':2,'sulfurMN':3})\n",
        "df[\"silicon\"] = df[\"silicon\"].map({'siliconLow':1,'siliconAN':2,'siliconMN':3})\n",
        "df[\"plantGrowth\"] = df[\"plantGrowth\"].map({'HighGrowth':2,'MediumGrowth':1,'LowGrowth':0})\n",
        "data = df[[\"auxin\",\"gibberellin\",\"cytokinin\",\"ethylene\",\"abscisicAcid\",\"nitrogen\",\"phosphorus\",\"magnesium\",\"sulfur\",\"silicon\",\"plantGrowth\"]].to_numpy()\n",
        "inputs = data[:,:-1]\n",
        "outputs = data[:, -1]\n",
        "training_inputs = inputs[:1000]\n",
        "training_outputs = outputs[:1000]\n",
        "testing_inputs = inputs[1000:]\n",
        "testing_outputs = outputs[1000:]\n",
        "classifier = MLPClassifier()\n",
        "classifier.fit(training_inputs, training_outputs)\n",
        "predictions = classifier.predict(testing_inputs)\n",
        "accuracy = 100.0 * accuracy_score(testing_outputs, predictions)\n",
        "print (\"The accuracy of MLPC Classifier on testing data is: \" + str(accuracy))\n",
        "testSet = [[1,1,2,3,1,1,2,1,1,3]]\n",
        "test = pd.DataFrame(testSet)\n",
        "predictions = classifier.predict(test)\n",
        "print('MLPC prediction on the first test set is:',predictions)\n",
        "testSet = [[2,1,2,2,2,2,1,2,3,1]]\n",
        "test = pd.DataFrame(testSet)\n",
        "predictions = classifier.predict(test)\n",
        "print('MLPC prediction on the second test set is:',predictions)\n",
        "testSet = [[3,2,1,3,3,2,1,3,2,3]]\n",
        "test = pd.DataFrame(testSet)\n",
        "predictions = classifier.predict(test)\n",
        "print('MLPC prediction on the third test set is:',predictions)\n"
      ],
      "metadata": {
        "colab": {
          "base_uri": "https://localhost:8080/"
        },
        "id": "sb1d_bvGYQBn",
        "outputId": "f15f7b45-45b4-498a-c02a-4592b5c7a408"
      },
      "execution_count": 20,
      "outputs": [
        {
          "output_type": "stream",
          "name": "stdout",
          "text": [
            "The accuracy of MLPC Classifier on testing data is: 88.53076601088321\n",
            "MLPC prediction on the first test set is: [0]\n",
            "MLPC prediction on the second test set is: [0]\n",
            "MLPC prediction on the third test set is: [2]\n"
          ]
        },
        {
          "output_type": "stream",
          "name": "stderr",
          "text": [
            "/usr/local/lib/python3.10/dist-packages/sklearn/neural_network/_multilayer_perceptron.py:686: ConvergenceWarning: Stochastic Optimizer: Maximum iterations (200) reached and the optimization hasn't converged yet.\n",
            "  warnings.warn(\n"
          ]
        }
      ]
    }
  ]
}